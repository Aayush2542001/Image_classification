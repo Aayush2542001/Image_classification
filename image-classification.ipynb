{
 "cells": [
  {
   "cell_type": "markdown",
   "id": "94d18b99",
   "metadata": {
    "_cell_guid": "b1076dfc-b9ad-4769-8c92-a6c4dae69d19",
    "_uuid": "8f2839f25d086af736a60e9eeb907d3b93b6e0e5",
    "execution": {
     "iopub.execute_input": "2022-02-04T16:41:58.182103Z",
     "iopub.status.busy": "2022-02-04T16:41:58.18181Z",
     "iopub.status.idle": "2022-02-04T16:41:58.187962Z",
     "shell.execute_reply": "2022-02-04T16:41:58.186909Z",
     "shell.execute_reply.started": "2022-02-04T16:41:58.182074Z"
    },
    "papermill": {
     "duration": 0.024015,
     "end_time": "2022-02-06T06:31:17.446194",
     "exception": false,
     "start_time": "2022-02-06T06:31:17.422179",
     "status": "completed"
    },
    "tags": []
   },
   "source": [
    "# Imports"
   ]
  },
  {
   "cell_type": "code",
   "execution_count": 1,
   "id": "c6179ce9",
   "metadata": {
    "execution": {
     "iopub.execute_input": "2022-02-06T06:31:17.486799Z",
     "iopub.status.busy": "2022-02-06T06:31:17.485118Z",
     "iopub.status.idle": "2022-02-06T06:31:23.354626Z",
     "shell.execute_reply": "2022-02-06T06:31:23.353915Z",
     "shell.execute_reply.started": "2022-02-06T06:28:04.169519Z"
    },
    "papermill": {
     "duration": 5.887579,
     "end_time": "2022-02-06T06:31:23.354770",
     "exception": false,
     "start_time": "2022-02-06T06:31:17.467191",
     "status": "completed"
    },
    "tags": []
   },
   "outputs": [],
   "source": [
    "import numpy as np\n",
    "import pandas as pd\n",
    "import os\n",
    "from PIL import Image\n",
    "from matplotlib import pyplot as plt\n",
    "\n",
    "import seaborn as sn\n",
    "\n",
    "import tensorflow as tf\n",
    "from tensorflow import keras\n",
    "from tensorflow.keras.models import Sequential\n",
    "from tensorflow.keras.layers import Activation,Dense\n",
    "from tensorflow.keras.optimizers import Adam\n",
    "from tensorflow.keras.metrics import categorical_crossentropy\n",
    "\n",
    "from sklearn.utils import shuffle\n",
    "from sklearn.metrics import confusion_matrix\n",
    "\n",
    "from keras.layers.core import Flatten\n",
    "from keras.layers.convolutional import *\n",
    "from keras.layers.pooling import *\n",
    "\n",
    "tf.data.experimental.enable_debug_mode()"
   ]
  },
  {
   "cell_type": "markdown",
   "id": "58fcbe9f",
   "metadata": {
    "papermill": {
     "duration": 0.013503,
     "end_time": "2022-02-06T06:31:23.381703",
     "exception": false,
     "start_time": "2022-02-06T06:31:23.368200",
     "status": "completed"
    },
    "tags": []
   },
   "source": [
    "# Encoding of classfication"
   ]
  },
  {
   "cell_type": "code",
   "execution_count": 2,
   "id": "0ee5cace",
   "metadata": {
    "execution": {
     "iopub.execute_input": "2022-02-06T06:31:23.412490Z",
     "iopub.status.busy": "2022-02-06T06:31:23.411676Z",
     "iopub.status.idle": "2022-02-06T06:31:23.413532Z",
     "shell.execute_reply": "2022-02-06T06:31:23.413939Z",
     "shell.execute_reply.started": "2022-02-06T06:14:45.307012Z"
    },
    "papermill": {
     "duration": 0.019216,
     "end_time": "2022-02-06T06:31:23.414061",
     "exception": false,
     "start_time": "2022-02-06T06:31:23.394845",
     "status": "completed"
    },
    "tags": []
   },
   "outputs": [],
   "source": [
    "Encode = {\n",
    "    'buildings': 0,\n",
    "    'forest': 1,\n",
    "    'glacier': 2,\n",
    "    'mountain': 3,\n",
    "    'sea': 4,\n",
    "    'street': 5\n",
    "}"
   ]
  },
  {
   "cell_type": "markdown",
   "id": "7dd02f8a",
   "metadata": {
    "papermill": {
     "duration": 0.012993,
     "end_time": "2022-02-06T06:31:23.440034",
     "exception": false,
     "start_time": "2022-02-06T06:31:23.427041",
     "status": "completed"
    },
    "tags": []
   },
   "source": [
    "# Loading Data"
   ]
  },
  {
   "cell_type": "code",
   "execution_count": 3,
   "id": "6a37dfb4",
   "metadata": {
    "execution": {
     "iopub.execute_input": "2022-02-06T06:31:23.472784Z",
     "iopub.status.busy": "2022-02-06T06:31:23.468180Z",
     "iopub.status.idle": "2022-02-06T06:31:23.475077Z",
     "shell.execute_reply": "2022-02-06T06:31:23.474671Z",
     "shell.execute_reply.started": "2022-02-06T06:14:45.317803Z"
    },
    "papermill": {
     "duration": 0.022188,
     "end_time": "2022-02-06T06:31:23.475182",
     "exception": false,
     "start_time": "2022-02-06T06:31:23.452994",
     "status": "completed"
    },
    "tags": []
   },
   "outputs": [],
   "source": [
    "def Data_Loading(base_path):\n",
    "    XList, YList = [], []\n",
    "\n",
    "    for directory in os.listdir(base_path):\n",
    "        for imageName in os.listdir(base_path + '/' + directory):\n",
    "            image = Image.open(base_path + '/' + directory + '/' + imageName)\n",
    "            if image.size != (150,150):\n",
    "                image = image.resize((150,150), Image.ANTIALIAS)\n",
    "\n",
    "            XList.append(np.array(image))\n",
    "            YList.append(Encode[directory])\n",
    "        print(directory+\"'s Image Loaded\")\n",
    "\n",
    "    X = np.rollaxis(np.dstack(XList),-1)\n",
    "    Y = np.array(YList)\n",
    "    return X,Y"
   ]
  },
  {
   "cell_type": "code",
   "execution_count": 4,
   "id": "b5b66249",
   "metadata": {
    "execution": {
     "iopub.execute_input": "2022-02-06T06:31:23.505079Z",
     "iopub.status.busy": "2022-02-06T06:31:23.504587Z",
     "iopub.status.idle": "2022-02-06T06:32:45.828960Z",
     "shell.execute_reply": "2022-02-06T06:32:45.828460Z",
     "shell.execute_reply.started": "2022-02-06T06:14:45.333857Z"
    },
    "papermill": {
     "duration": 82.340667,
     "end_time": "2022-02-06T06:32:45.829102",
     "exception": false,
     "start_time": "2022-02-06T06:31:23.488435",
     "status": "completed"
    },
    "tags": []
   },
   "outputs": [
    {
     "name": "stdout",
     "output_type": "stream",
     "text": [
      "mountain's Image Loaded\n",
      "street's Image Loaded\n",
      "buildings's Image Loaded\n",
      "sea's Image Loaded\n",
      "forest's Image Loaded\n",
      "glacier's Image Loaded\n"
     ]
    }
   ],
   "source": [
    "X_train,Y_train = Data_Loading('/kaggle/input/intel-image-classification/seg_train/seg_train')"
   ]
  },
  {
   "cell_type": "code",
   "execution_count": 5,
   "id": "462f3f26",
   "metadata": {
    "execution": {
     "iopub.execute_input": "2022-02-06T06:32:45.862807Z",
     "iopub.status.busy": "2022-02-06T06:32:45.862282Z",
     "iopub.status.idle": "2022-02-06T06:33:06.462258Z",
     "shell.execute_reply": "2022-02-06T06:33:06.461742Z",
     "shell.execute_reply.started": "2022-02-06T06:16:24.388399Z"
    },
    "papermill": {
     "duration": 20.617877,
     "end_time": "2022-02-06T06:33:06.462416",
     "exception": false,
     "start_time": "2022-02-06T06:32:45.844539",
     "status": "completed"
    },
    "tags": []
   },
   "outputs": [
    {
     "name": "stdout",
     "output_type": "stream",
     "text": [
      "mountain's Image Loaded\n",
      "street's Image Loaded\n",
      "buildings's Image Loaded\n",
      "sea's Image Loaded\n",
      "forest's Image Loaded\n",
      "glacier's Image Loaded\n"
     ]
    }
   ],
   "source": [
    "X_test,Y_test = Data_Loading('/kaggle/input/intel-image-classification/seg_test/seg_test')"
   ]
  },
  {
   "cell_type": "code",
   "execution_count": 6,
   "id": "445221fd",
   "metadata": {
    "execution": {
     "iopub.execute_input": "2022-02-06T06:33:06.499697Z",
     "iopub.status.busy": "2022-02-06T06:33:06.498182Z",
     "iopub.status.idle": "2022-02-06T06:33:08.992339Z",
     "shell.execute_reply": "2022-02-06T06:33:08.991894Z",
     "shell.execute_reply.started": "2022-02-06T06:16:44.878427Z"
    },
    "papermill": {
     "duration": 2.513363,
     "end_time": "2022-02-06T06:33:08.992499",
     "exception": false,
     "start_time": "2022-02-06T06:33:06.479136",
     "status": "completed"
    },
    "tags": []
   },
   "outputs": [
    {
     "data": {
      "text/plain": [
       "(14034, 150, 150, 3)"
      ]
     },
     "execution_count": 6,
     "metadata": {},
     "output_type": "execute_result"
    }
   ],
   "source": [
    "X_train = X_train.reshape(-1, 150, 150, 3)\n",
    "X_train.shape"
   ]
  },
  {
   "cell_type": "code",
   "execution_count": 7,
   "id": "8f9f0609",
   "metadata": {
    "execution": {
     "iopub.execute_input": "2022-02-06T06:33:09.036528Z",
     "iopub.status.busy": "2022-02-06T06:33:09.035484Z",
     "iopub.status.idle": "2022-02-06T06:33:11.464723Z",
     "shell.execute_reply": "2022-02-06T06:33:11.465253Z",
     "shell.execute_reply.started": "2022-02-06T06:16:47.314761Z"
    },
    "papermill": {
     "duration": 2.456234,
     "end_time": "2022-02-06T06:33:11.465449",
     "exception": false,
     "start_time": "2022-02-06T06:33:09.009215",
     "status": "completed"
    },
    "tags": []
   },
   "outputs": [
    {
     "data": {
      "text/plain": [
       "(3000, 150, 150, 3)"
      ]
     },
     "execution_count": 7,
     "metadata": {},
     "output_type": "execute_result"
    }
   ],
   "source": [
    "X_test = X_test.reshape(-1, 150, 150, 3)\n",
    "X_test.shape"
   ]
  },
  {
   "cell_type": "code",
   "execution_count": 8,
   "id": "7c2e5eb8",
   "metadata": {
    "execution": {
     "iopub.execute_input": "2022-02-06T06:33:11.507725Z",
     "iopub.status.busy": "2022-02-06T06:33:11.506518Z",
     "iopub.status.idle": "2022-02-06T06:33:11.509665Z",
     "shell.execute_reply": "2022-02-06T06:33:11.510066Z",
     "shell.execute_reply.started": "2022-02-06T06:16:49.570922Z"
    },
    "papermill": {
     "duration": 0.027558,
     "end_time": "2022-02-06T06:33:11.510190",
     "exception": false,
     "start_time": "2022-02-06T06:33:11.482632",
     "status": "completed"
    },
    "tags": []
   },
   "outputs": [
    {
     "data": {
      "text/plain": [
       "(14034,)"
      ]
     },
     "execution_count": 8,
     "metadata": {},
     "output_type": "execute_result"
    }
   ],
   "source": [
    "Y_train.shape"
   ]
  },
  {
   "cell_type": "code",
   "execution_count": 9,
   "id": "60379fab",
   "metadata": {
    "execution": {
     "iopub.execute_input": "2022-02-06T06:33:11.549309Z",
     "iopub.status.busy": "2022-02-06T06:33:11.548804Z",
     "iopub.status.idle": "2022-02-06T06:33:11.552105Z",
     "shell.execute_reply": "2022-02-06T06:33:11.552505Z",
     "shell.execute_reply.started": "2022-02-06T06:16:49.585716Z"
    },
    "papermill": {
     "duration": 0.025452,
     "end_time": "2022-02-06T06:33:11.552632",
     "exception": false,
     "start_time": "2022-02-06T06:33:11.527180",
     "status": "completed"
    },
    "tags": []
   },
   "outputs": [
    {
     "data": {
      "text/plain": [
       "(3000,)"
      ]
     },
     "execution_count": 9,
     "metadata": {},
     "output_type": "execute_result"
    }
   ],
   "source": [
    "Y_test.shape"
   ]
  },
  {
   "cell_type": "markdown",
   "id": "ef1bd17e",
   "metadata": {
    "papermill": {
     "duration": 0.018081,
     "end_time": "2022-02-06T06:33:11.588207",
     "exception": false,
     "start_time": "2022-02-06T06:33:11.570126",
     "status": "completed"
    },
    "tags": []
   },
   "source": [
    "# Convolutional Model"
   ]
  },
  {
   "cell_type": "code",
   "execution_count": 10,
   "id": "0dfd2ce0",
   "metadata": {
    "execution": {
     "iopub.execute_input": "2022-02-06T06:33:11.631192Z",
     "iopub.status.busy": "2022-02-06T06:33:11.630673Z",
     "iopub.status.idle": "2022-02-06T06:33:13.904583Z",
     "shell.execute_reply": "2022-02-06T06:33:13.904036Z",
     "shell.execute_reply.started": "2022-02-06T06:16:49.599881Z"
    },
    "papermill": {
     "duration": 2.298974,
     "end_time": "2022-02-06T06:33:13.904721",
     "exception": false,
     "start_time": "2022-02-06T06:33:11.605747",
     "status": "completed"
    },
    "tags": []
   },
   "outputs": [
    {
     "name": "stderr",
     "output_type": "stream",
     "text": [
      "2022-02-06 06:33:11.715859: I tensorflow/stream_executor/cuda/cuda_gpu_executor.cc:937] successful NUMA node read from SysFS had negative value (-1), but there must be at least one NUMA node, so returning NUMA node zero\n"
     ]
    },
    {
     "name": "stdout",
     "output_type": "stream",
     "text": [
      "Model: \"sequential\"\n",
      "_________________________________________________________________\n",
      "Layer (type)                 Output Shape              Param #   \n",
      "=================================================================\n",
      "conv2d (Conv2D)              (None, 150, 150, 128)     3584      \n",
      "_________________________________________________________________\n",
      "conv2d_1 (Conv2D)            (None, 150, 150, 128)     147584    \n",
      "_________________________________________________________________\n",
      "max_pooling2d (MaxPooling2D) (None, 75, 75, 128)       0         \n",
      "_________________________________________________________________\n",
      "conv2d_2 (Conv2D)            (None, 75, 75, 256)       819456    \n",
      "_________________________________________________________________\n",
      "conv2d_3 (Conv2D)            (None, 75, 75, 512)       3277312   \n",
      "_________________________________________________________________\n",
      "max_pooling2d_1 (MaxPooling2 (None, 37, 37, 512)       0         \n",
      "_________________________________________________________________\n",
      "flatten (Flatten)            (None, 700928)            0         \n",
      "_________________________________________________________________\n",
      "dense (Dense)                (None, 6)                 4205574   \n",
      "=================================================================\n",
      "Total params: 8,453,510\n",
      "Trainable params: 8,453,510\n",
      "Non-trainable params: 0\n",
      "_________________________________________________________________\n"
     ]
    },
    {
     "name": "stderr",
     "output_type": "stream",
     "text": [
      "2022-02-06 06:33:11.828545: I tensorflow/stream_executor/cuda/cuda_gpu_executor.cc:937] successful NUMA node read from SysFS had negative value (-1), but there must be at least one NUMA node, so returning NUMA node zero\n",
      "2022-02-06 06:33:11.829233: I tensorflow/stream_executor/cuda/cuda_gpu_executor.cc:937] successful NUMA node read from SysFS had negative value (-1), but there must be at least one NUMA node, so returning NUMA node zero\n",
      "2022-02-06 06:33:11.830458: I tensorflow/core/platform/cpu_feature_guard.cc:142] This TensorFlow binary is optimized with oneAPI Deep Neural Network Library (oneDNN) to use the following CPU instructions in performance-critical operations:  AVX2 AVX512F FMA\n",
      "To enable them in other operations, rebuild TensorFlow with the appropriate compiler flags.\n",
      "2022-02-06 06:33:11.831681: I tensorflow/stream_executor/cuda/cuda_gpu_executor.cc:937] successful NUMA node read from SysFS had negative value (-1), but there must be at least one NUMA node, so returning NUMA node zero\n",
      "2022-02-06 06:33:11.832341: I tensorflow/stream_executor/cuda/cuda_gpu_executor.cc:937] successful NUMA node read from SysFS had negative value (-1), but there must be at least one NUMA node, so returning NUMA node zero\n",
      "2022-02-06 06:33:11.832956: I tensorflow/stream_executor/cuda/cuda_gpu_executor.cc:937] successful NUMA node read from SysFS had negative value (-1), but there must be at least one NUMA node, so returning NUMA node zero\n",
      "2022-02-06 06:33:13.516971: I tensorflow/stream_executor/cuda/cuda_gpu_executor.cc:937] successful NUMA node read from SysFS had negative value (-1), but there must be at least one NUMA node, so returning NUMA node zero\n",
      "2022-02-06 06:33:13.517868: I tensorflow/stream_executor/cuda/cuda_gpu_executor.cc:937] successful NUMA node read from SysFS had negative value (-1), but there must be at least one NUMA node, so returning NUMA node zero\n",
      "2022-02-06 06:33:13.518512: I tensorflow/stream_executor/cuda/cuda_gpu_executor.cc:937] successful NUMA node read from SysFS had negative value (-1), but there must be at least one NUMA node, so returning NUMA node zero\n",
      "2022-02-06 06:33:13.519093: I tensorflow/core/common_runtime/gpu/gpu_device.cc:1510] Created device /job:localhost/replica:0/task:0/device:GPU:0 with 15403 MB memory:  -> device: 0, name: Tesla P100-PCIE-16GB, pci bus id: 0000:00:04.0, compute capability: 6.0\n"
     ]
    }
   ],
   "source": [
    "model = Sequential(\n",
    "    [\n",
    "        Conv2D(filters=128, kernel_size=(3, 3), padding=\"same\", activation=\"relu\", input_shape=(150,150,3), kernel_regularizer = regularizers.l2(0.1)),\n",
    "        Conv2D(filters=128, kernel_size=(3, 3), padding=\"same\", activation=\"relu\", kernel_regularizer = regularizers.l2(0.01)),\n",
    "        MaxPooling2D(pool_size=(2, 2), strides=2, padding=\"valid\"),\n",
    "        \n",
    "        Conv2D(filters=256, kernel_size=(5, 5), padding=\"same\", activation=\"relu\", kernel_regularizer = regularizers.l2(0.1)),\n",
    "        Conv2D(filters=512, kernel_size=(5, 5), padding=\"same\", activation=\"relu\", kernel_regularizer = regularizers.l2(0.01)),\n",
    "        MaxPooling2D(pool_size=(2, 2), strides=2, padding=\"valid\"),\n",
    "        \n",
    "        Flatten(),\n",
    "        \n",
    "        Dense(units=6, activation='softmax')\n",
    "    ]\n",
    ")\n",
    "model.summary()"
   ]
  },
  {
   "cell_type": "code",
   "execution_count": 11,
   "id": "ec35b9b4",
   "metadata": {
    "execution": {
     "iopub.execute_input": "2022-02-06T06:33:13.949444Z",
     "iopub.status.busy": "2022-02-06T06:33:13.948660Z",
     "iopub.status.idle": "2022-02-06T06:33:13.954459Z",
     "shell.execute_reply": "2022-02-06T06:33:13.954023Z",
     "shell.execute_reply.started": "2022-02-06T06:16:51.987201Z"
    },
    "papermill": {
     "duration": 0.031306,
     "end_time": "2022-02-06T06:33:13.954569",
     "exception": false,
     "start_time": "2022-02-06T06:33:13.923263",
     "status": "completed"
    },
    "tags": []
   },
   "outputs": [],
   "source": [
    "model.compile(optimizer=Adam(learning_rate=0.0001), loss='sparse_categorical_crossentropy', metrics=['accuracy'])"
   ]
  },
  {
   "cell_type": "code",
   "execution_count": 12,
   "id": "86af55a9",
   "metadata": {
    "execution": {
     "iopub.execute_input": "2022-02-06T06:33:13.994901Z",
     "iopub.status.busy": "2022-02-06T06:33:13.994163Z",
     "iopub.status.idle": "2022-02-06T06:58:11.758475Z",
     "shell.execute_reply": "2022-02-06T06:58:11.757997Z",
     "shell.execute_reply.started": "2022-02-06T06:18:33.736194Z"
    },
    "papermill": {
     "duration": 1497.785895,
     "end_time": "2022-02-06T06:58:11.758620",
     "exception": false,
     "start_time": "2022-02-06T06:33:13.972725",
     "status": "completed"
    },
    "tags": []
   },
   "outputs": [
    {
     "name": "stderr",
     "output_type": "stream",
     "text": [
      "2022-02-06 06:33:13.995817: W tensorflow/core/framework/cpu_allocator_impl.cc:80] Allocation of 947295000 exceeds 10% of free system memory.\n",
      "2022-02-06 06:33:14.970144: W tensorflow/core/framework/cpu_allocator_impl.cc:80] Allocation of 947295000 exceeds 10% of free system memory.\n",
      "2022-02-06 06:33:15.670968: I tensorflow/compiler/mlir/mlir_graph_optimization_pass.cc:185] None of the MLIR Optimization Passes are enabled (registered 2)\n"
     ]
    },
    {
     "name": "stdout",
     "output_type": "stream",
     "text": [
      "Epoch 1/20\n"
     ]
    },
    {
     "name": "stderr",
     "output_type": "stream",
     "text": [
      "2022-02-06 06:33:17.064137: I tensorflow/stream_executor/cuda/cuda_dnn.cc:369] Loaded cuDNN version 8005\n"
     ]
    },
    {
     "name": "stdout",
     "output_type": "stream",
     "text": [
      "220/220 [==============================] - 91s 366ms/step - loss: 22.5003 - accuracy: 0.5411 - val_loss: 13.9931 - val_accuracy: 0.6473\n",
      "Epoch 2/20\n",
      "220/220 [==============================] - 74s 336ms/step - loss: 12.1746 - accuracy: 0.7072 - val_loss: 10.8608 - val_accuracy: 0.6937\n",
      "Epoch 3/20\n",
      "220/220 [==============================] - 74s 336ms/step - loss: 9.7915 - accuracy: 0.7757 - val_loss: 9.1017 - val_accuracy: 0.7540\n",
      "Epoch 4/20\n",
      "220/220 [==============================] - 74s 336ms/step - loss: 8.3208 - accuracy: 0.8157 - val_loss: 7.9015 - val_accuracy: 0.7713\n",
      "Epoch 5/20\n",
      "220/220 [==============================] - 74s 336ms/step - loss: 7.2265 - accuracy: 0.8520 - val_loss: 7.0249 - val_accuracy: 0.7750\n",
      "Epoch 6/20\n",
      "220/220 [==============================] - 74s 336ms/step - loss: 6.3524 - accuracy: 0.8801 - val_loss: 6.4141 - val_accuracy: 0.7540\n",
      "Epoch 7/20\n",
      "220/220 [==============================] - 74s 336ms/step - loss: 5.6606 - accuracy: 0.8951 - val_loss: 5.8787 - val_accuracy: 0.7400\n",
      "Epoch 8/20\n",
      "220/220 [==============================] - 74s 336ms/step - loss: 5.0424 - accuracy: 0.9193 - val_loss: 5.2656 - val_accuracy: 0.7853\n",
      "Epoch 9/20\n",
      "220/220 [==============================] - 74s 336ms/step - loss: 4.5062 - accuracy: 0.9389 - val_loss: 4.9083 - val_accuracy: 0.7603\n",
      "Epoch 10/20\n",
      "220/220 [==============================] - 74s 336ms/step - loss: 4.0522 - accuracy: 0.9515 - val_loss: 4.5736 - val_accuracy: 0.7683\n",
      "Epoch 11/20\n",
      "220/220 [==============================] - 74s 336ms/step - loss: 3.6615 - accuracy: 0.9555 - val_loss: 4.2099 - val_accuracy: 0.7450\n",
      "Epoch 12/20\n",
      "220/220 [==============================] - 74s 336ms/step - loss: 3.2917 - accuracy: 0.9685 - val_loss: 4.0305 - val_accuracy: 0.7330\n",
      "Epoch 13/20\n",
      "220/220 [==============================] - 74s 336ms/step - loss: 2.9830 - accuracy: 0.9689 - val_loss: 3.6737 - val_accuracy: 0.7733\n",
      "Epoch 14/20\n",
      "220/220 [==============================] - 74s 336ms/step - loss: 2.6792 - accuracy: 0.9801 - val_loss: 3.5588 - val_accuracy: 0.7443\n",
      "Epoch 15/20\n",
      "220/220 [==============================] - 74s 336ms/step - loss: 2.4528 - accuracy: 0.9745 - val_loss: 3.2904 - val_accuracy: 0.7597\n",
      "Epoch 16/20\n",
      "220/220 [==============================] - 74s 336ms/step - loss: 2.2231 - accuracy: 0.9763 - val_loss: 3.0247 - val_accuracy: 0.7523\n",
      "Epoch 17/20\n",
      "220/220 [==============================] - 74s 336ms/step - loss: 2.0153 - accuracy: 0.9797 - val_loss: 2.9940 - val_accuracy: 0.7157\n",
      "Epoch 18/20\n",
      "220/220 [==============================] - 74s 336ms/step - loss: 1.8348 - accuracy: 0.9790 - val_loss: 2.7189 - val_accuracy: 0.7617\n",
      "Epoch 19/20\n",
      "220/220 [==============================] - 74s 336ms/step - loss: 1.6501 - accuracy: 0.9846 - val_loss: 2.6135 - val_accuracy: 0.7583\n",
      "Epoch 20/20\n",
      "220/220 [==============================] - 74s 336ms/step - loss: 1.4922 - accuracy: 0.9894 - val_loss: 2.5235 - val_accuracy: 0.7623\n"
     ]
    }
   ],
   "source": [
    "history = model.fit(x=X_train, y=Y_train, batch_size=64, validation_data=(X_test,Y_test),epochs=20, shuffle=True, verbose=1)"
   ]
  },
  {
   "cell_type": "code",
   "execution_count": 13,
   "id": "fec63983",
   "metadata": {
    "execution": {
     "iopub.execute_input": "2022-02-06T06:58:14.117072Z",
     "iopub.status.busy": "2022-02-06T06:58:14.116188Z",
     "iopub.status.idle": "2022-02-06T06:58:14.318588Z",
     "shell.execute_reply": "2022-02-06T06:58:14.317913Z",
     "shell.execute_reply.started": "2022-02-06T06:23:02.582463Z"
    },
    "papermill": {
     "duration": 1.388233,
     "end_time": "2022-02-06T06:58:14.318712",
     "exception": false,
     "start_time": "2022-02-06T06:58:12.930479",
     "status": "completed"
    },
    "tags": []
   },
   "outputs": [
    {
     "data": {
      "image/png": "[encoded data removed]",
      "text/plain": [
       "<Figure size 432x288 with 1 Axes>"
      ]
     },
     "metadata": {
      "needs_background": "light"
     },
     "output_type": "display_data"
    }
   ],
   "source": [
    "plt.plot(history.history['accuracy'])\n",
    "plt.plot(history.history['val_accuracy'])\n",
    "plt.title('model accuracy')\n",
    "plt.ylabel('accuracy')\n",
    "plt.xlabel('epoch')\n",
    "plt.legend(['train', 'val'], loc='upper left')\n",
    "plt.show()"
   ]
  },
  {
   "cell_type": "code",
   "execution_count": 14,
   "id": "230c54bf",
   "metadata": {
    "execution": {
     "iopub.execute_input": "2022-02-06T06:58:16.947580Z",
     "iopub.status.busy": "2022-02-06T06:58:16.946931Z",
     "iopub.status.idle": "2022-02-06T06:58:17.125724Z",
     "shell.execute_reply": "2022-02-06T06:58:17.126169Z",
     "shell.execute_reply.started": "2022-02-06T06:23:07.765300Z"
    },
    "papermill": {
     "duration": 1.630387,
     "end_time": "2022-02-06T06:58:17.126321",
     "exception": false,
     "start_time": "2022-02-06T06:58:15.495934",
     "status": "completed"
    },
    "tags": []
   },
   "outputs": [
    {
     "data": {
      "image/png": "[encoded data removed]",
      "text/plain": [
       "<Figure size 432x288 with 1 Axes>"
      ]
     },
     "metadata": {
      "needs_background": "light"
     },
     "output_type": "display_data"
    }
   ],
   "source": [
    "plt.plot(history.history['loss'])\n",
    "plt.plot(history.history['val_loss'])\n",
    "plt.title('model loss')\n",
    "plt.ylabel('loss')\n",
    "plt.xlabel('epoch')\n",
    "plt.legend(['train', 'val'], loc='upper left')\n",
    "plt.show()"
   ]
  },
  {
   "cell_type": "code",
   "execution_count": 15,
   "id": "523eee90",
   "metadata": {
    "execution": {
     "iopub.execute_input": "2022-02-06T06:58:19.524486Z",
     "iopub.status.busy": "2022-02-06T06:58:19.523522Z",
     "iopub.status.idle": "2022-02-06T06:58:31.004817Z",
     "shell.execute_reply": "2022-02-06T06:58:31.004261Z",
     "shell.execute_reply.started": "2022-02-06T06:25:25.455109Z"
    },
    "papermill": {
     "duration": 12.662648,
     "end_time": "2022-02-06T06:58:31.004968",
     "exception": false,
     "start_time": "2022-02-06T06:58:18.342320",
     "status": "completed"
    },
    "tags": []
   },
   "outputs": [],
   "source": [
    "Y_pred = model.predict(X_test)\n",
    "Y_pred = Y_pred.argmax(axis=1)\n",
    "matrix = confusion_matrix(Y_test, Y_pred, labels=[0, 1, 2, 3, 4, 5])"
   ]
  },
  {
   "cell_type": "code",
   "execution_count": 16,
   "id": "aa59c16f",
   "metadata": {
    "execution": {
     "iopub.execute_input": "2022-02-06T06:58:33.384482Z",
     "iopub.status.busy": "2022-02-06T06:58:33.383589Z",
     "iopub.status.idle": "2022-02-06T06:58:33.733444Z",
     "shell.execute_reply": "2022-02-06T06:58:33.733965Z",
     "shell.execute_reply.started": "2022-02-06T06:30:11.831636Z"
    },
    "papermill": {
     "duration": 1.548654,
     "end_time": "2022-02-06T06:58:33.734116",
     "exception": false,
     "start_time": "2022-02-06T06:58:32.185462",
     "status": "completed"
    },
    "tags": []
   },
   "outputs": [
    {
     "data": {
      "text/plain": [
       "<AxesSubplot:>"
      ]
     },
     "execution_count": 16,
     "metadata": {},
     "output_type": "execute_result"
    },
    {
     "data": {
      "image/png": "[encoded data removed]",
      "text/plain": [
       "<Figure size 720x504 with 2 Axes>"
      ]
     },
     "metadata": {
      "needs_background": "light"
     },
     "output_type": "display_data"
    }
   ],
   "source": [
    "df_cm = pd.DataFrame(matrix, index = ['buildings', 'forest', 'glacier', 'mountain', 'sea', 'street'], columns = ['buildings', 'forest', 'glacier', 'mountain', 'sea', 'street'])\n",
    "plt.figure(figsize = (10,7))\n",
    "sn.heatmap(df_cm, annot=True, cmap='Blues', fmt='g')"
   ]
  }
 ],
 "metadata": {
  "kernelspec": {
   "display_name": "Python 3",
   "language": "python",
   "name": "python3"
  },
  "language_info": {
   "codemirror_mode": {
    "name": "ipython",
    "version": 3
   },
   "file_extension": ".py",
   "mimetype": "text/x-python",
   "name": "python",
   "nbconvert_exporter": "python",
   "pygments_lexer": "ipython3",
   "version": "3.7.12"
  },
  "papermill": {
   "default_parameters": {},
   "duration": 1649.390351,
   "end_time": "2022-02-06T06:58:38.606472",
   "environment_variables": {},
   "exception": null,
   "input_path": "__notebook__.ipynb",
   "output_path": "__notebook__.ipynb",
   "parameters": {},
   "start_time": "2022-02-06T06:31:09.216121",
   "version": "2.3.3"
  }
 },
 "nbformat": 4,
 "nbformat_minor": 5
}
